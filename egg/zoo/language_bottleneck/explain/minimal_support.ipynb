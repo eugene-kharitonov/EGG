{
 "cells": [
  {
   "cell_type": "code",
   "execution_count": 1,
   "metadata": {},
   "outputs": [],
   "source": [
    "import numpy as np\n",
    "import pathlib\n",
    "import json\n",
    "import pylab as plt\n",
    "import seaborn as sns; sns.set()"
   ]
  },
  {
   "cell_type": "code",
   "execution_count": 13,
   "metadata": {},
   "outputs": [],
   "source": [
    "data = []\n",
    "\n",
    "with open('/private/home/kharitonov/work/EGG/egg/zoo/language_bottleneck/explain/redundancy_2.json', 'r') as fin:\n",
    "    for line in fin:\n",
    "        #print(line)\n",
    "        data.append(json.loads(line))"
   ]
  },
  {
   "cell_type": "code",
   "execution_count": 14,
   "metadata": {},
   "outputs": [
    {
     "data": {
      "text/plain": [
       "{'n_bits': 8,\n",
       " 'bits_s': 8,\n",
       " 'bits_r': 0,\n",
       " 'n_examples_per_epoch': 2048000,\n",
       " 'sender_hidden': 10,\n",
       " 'receiver_hidden': 10,\n",
       " 'temperature': 1.0,\n",
       " 'sender_entropy_coeff': 0.01,\n",
       " 'receiver_entropy_coeff': 0.01,\n",
       " 'sender_lr': 0.001,\n",
       " 'receiver_lr': 0.001,\n",
       " 'mode': 'rf',\n",
       " 'variable_length': True,\n",
       " 'sender_cell': 'gru',\n",
       " 'receiver_cell': 'lstm',\n",
       " 'sender_emb': 10,\n",
       " 'receiver_emb': 10,\n",
       " 'early_stopping_thr': 0.99,\n",
       " 'dump_language': False,\n",
       " 'random_seed': 0,\n",
       " 'checkpoint_dir': '/private/home/kharitonov/nest/guess_number/2019_08_27_04_12_35',\n",
       " 'preemptable': True,\n",
       " 'checkpoint_freq': 1,\n",
       " 'validation_freq': 1,\n",
       " 'n_epochs': 1000,\n",
       " 'load_from_checkpoint': None,\n",
       " 'no_cuda': False,\n",
       " 'batch_size': 2048,\n",
       " 'optimizer': 'adam',\n",
       " 'lr': 0.001,\n",
       " 'vocab_size': 8,\n",
       " 'max_len': 21,\n",
       " 'tensorboard': False,\n",
       " 'tensorboard_dir': 'runs/',\n",
       " 'cuda': True,\n",
       " 'device': 'cuda',\n",
       " 'min_positions': 10,\n",
       " 'meaning_utt_info': 7.81441494138936,\n",
       " 'mask': '??????????xxxxxxxxxxx',\n",
       " 'reverse_info': 7.984375000000016,\n",
       " 'name': '17128601_0'}"
      ]
     },
     "execution_count": 14,
     "metadata": {},
     "output_type": "execute_result"
    }
   ],
   "source": [
    "data[0]"
   ]
  },
  {
   "cell_type": "code",
   "execution_count": 15,
   "metadata": {},
   "outputs": [
    {
     "name": "stdout",
     "output_type": "stream",
     "text": [
      "41\n"
     ]
    }
   ],
   "source": [
    "filtered = []\n",
    "\n",
    "for l in data:\n",
    "    if l['receiver_cell'] != 'gru' or l['sender_cell'] != 'gru':\n",
    "        continue\n",
    "    filtered.append(l)\n",
    "print(len(l))"
   ]
  },
  {
   "cell_type": "code",
   "execution_count": 44,
   "metadata": {},
   "outputs": [],
   "source": [
    "xs = [11, 21, 31]\n",
    "vocab_sizes = [8, 16]\n",
    "\n",
    "results = dict((z, []) for z in vocab_sizes)\n",
    "\n",
    "for vocab_size in vocab_sizes:\n",
    "    for max_len in xs:\n",
    "        slice = [x for x in filtered if x['max_len'] == max_len and x['vocab_size'] == vocab_size]\n",
    "        min_positions = [x['min_positions'] / max_len for x in slice]\n",
    "        \n",
    "        \n",
    "        results[vocab_size].append((np.mean(min_positions), np.std(min_positions) / np.sqrt(len(min_positions))))"
   ]
  },
  {
   "cell_type": "code",
   "execution_count": 34,
   "metadata": {},
   "outputs": [
    {
     "data": {
      "text/plain": [
       "{8: [(0.1818181818181818, 0.04285495643554833),\n",
       "  (0.5357142857142857, 0.030929478706587105),\n",
       "  (0.6387096774193548, 0.02490356008466939)],\n",
       " 16: [(0.24242424242424243, 0.024742320634173507),\n",
       "  (0.4761904761904761, 0.06734350297014738),\n",
       "  (0.6612903225806451, 0.03325085181949726)]}"
      ]
     },
     "execution_count": 34,
     "metadata": {},
     "output_type": "execute_result"
    }
   ],
   "source": [
    "results"
   ]
  },
  {
   "cell_type": "code",
   "execution_count": 38,
   "metadata": {},
   "outputs": [
    {
     "data": {
      "image/png": "[encoded data removed]",
      "text/plain": [
       "<Figure size 432x288 with 1 Axes>"
      ]
     },
     "metadata": {
      "needs_background": "light"
     },
     "output_type": "display_data"
    }
   ],
   "source": [
    "for vocab_size in vocab_sizes:\n",
    "    means, std = [x[0] for x in results[vocab_size]], [x[1] for x in results[vocab_size]]\n",
    "    \n",
    "    plt.errorbar(xs, means, yerr=std, label=f'vocab size = {vocab_size}')\n",
    "    \n",
    "plt.ylabel('relative # positions')\n",
    "plt.xlabel('Max message length')\n",
    "plt.title(\"Positions can be masked\")\n",
    "plt.legend()\n",
    "\n",
    "plt.savefig(\"gru_positions_can_mask.pdf\")\n",
    "\n",
    "\n",
    "plt.show()"
   ]
  },
  {
   "cell_type": "code",
   "execution_count": 40,
   "metadata": {},
   "outputs": [],
   "source": [
    "xs = [11, 21, 31]\n",
    "vocab_sizes = [8, 16]\n",
    "\n",
    "results = dict((z, []) for z in vocab_sizes)\n",
    "\n",
    "for vocab_size in vocab_sizes:\n",
    "    for max_len in xs:\n",
    "        slice = [x for x in filtered if x['max_len'] == max_len and x['vocab_size'] == vocab_size]\n",
    "        reverse_info = [x['reverse_info'] for x in slice]\n",
    "        \n",
    "        \n",
    "        results[vocab_size].append((np.mean(reverse_info), np.std(reverse_info) / np.sqrt(len(reverse_info))))"
   ]
  },
  {
   "cell_type": "code",
   "execution_count": 41,
   "metadata": {},
   "outputs": [
    {
     "data": {
      "text/plain": [
       "{8: [(2.0468941022993303, 0.9357030795014039),\n",
       "  (7.716136796249714, 0.20781150307444032),\n",
       "  (7.955851738277884, 0.02620756129758766)],\n",
       " 16: [(4.424626587078848, 0.5625719258656376),\n",
       "  (6.6821873176370215, 0.6162682306653183),\n",
       "  (7.996093750000016, 0.0033829117335329633)]}"
      ]
     },
     "execution_count": 41,
     "metadata": {},
     "output_type": "execute_result"
    }
   ],
   "source": [
    "results"
   ]
  },
  {
   "cell_type": "code",
   "execution_count": 42,
   "metadata": {},
   "outputs": [
    {
     "data": {
      "image/png": "[encoded data removed]",
      "text/plain": [
       "<Figure size 432x288 with 1 Axes>"
      ]
     },
     "metadata": {
      "needs_background": "light"
     },
     "output_type": "display_data"
    }
   ],
   "source": [
    "for vocab_size in vocab_sizes:\n",
    "    means, std = [x[0] for x in results[vocab_size]], [x[1] for x in results[vocab_size]]\n",
    "    \n",
    "    plt.errorbar(xs, means, yerr=std, label=f'vocab size = {vocab_size}')\n",
    "    \n",
    "plt.ylabel('Bits')\n",
    "plt.xlabel('Max message length')\n",
    "plt.title(\"Bits encoded in the complimentary\")\n",
    "plt.legend()\n",
    "plt.savefig(\"gru_bits_reverse.pdf\")\n",
    "\n",
    "plt.show()"
   ]
  },
  {
   "cell_type": "code",
   "execution_count": null,
   "metadata": {},
   "outputs": [],
   "source": []
  }
 ],
 "metadata": {
  "kernelspec": {
   "display_name": "Python 3",
   "language": "python",
   "name": "python3"
  },
  "language_info": {
   "codemirror_mode": {
    "name": "ipython",
    "version": 3
   },
   "file_extension": ".py",
   "mimetype": "text/x-python",
   "name": "python",
   "nbconvert_exporter": "python",
   "pygments_lexer": "ipython3",
   "version": "3.7.3"
  }
 },
 "nbformat": 4,
 "nbformat_minor": 2
}
